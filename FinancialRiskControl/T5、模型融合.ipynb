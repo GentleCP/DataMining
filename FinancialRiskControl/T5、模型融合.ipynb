{
 "cells": [
  {
   "cell_type": "markdown",
   "metadata": {},
   "source": [
    "# 模型融合\n",
    "将多个模型预测结果按照一定规则融合起来，主要方法包括：\n",
    "- 平均：回归\n",
    "    - 直接平均\n",
    "    - 加权平均\n",
    "- 投票：分类\n",
    "    - 简单投票\n",
    "    - 加权投票\n",
    "- 综合\n",
    "    - 排序融合\n",
    "    - log融合\n",
    "- stacking：构建多层模型，利用预测结果再拟合预测？\n",
    "    \n",
    "- blending：选取部分数据预测训练得到预测结果作为新特征，带入剩下的数据中预测\n",
    "\n",
    "- boosting/bagging"
   ]
  },
  {
   "cell_type": "markdown",
   "metadata": {},
   "source": [
    "## 融合方法样例\n",
    "在简单数据集上熟悉各个融合方法的使用"
   ]
  },
  {
   "cell_type": "markdown",
   "metadata": {},
   "source": [
    "### 回归\n",
    "评估指标：MAE"
   ]
  },
  {
   "cell_type": "code",
   "execution_count": 1,
   "metadata": {},
   "outputs": [
    {
     "name": "stdout",
     "output_type": "stream",
     "text": [
      "--------------MAE--------------\n",
      "Model1:0.22500000000000003\n",
      "Model2:0.25000000000000006\n",
      "Model3:0.07500000000000007\n"
     ]
    }
   ],
   "source": [
    "from sklearn.metrics import mean_absolute_error\n",
    "\n",
    "model1_pred = [1.2, 3.2, 2.2, 5.7]\n",
    "model2_pred = [0.7, 3.1, 2.4, 5.8]\n",
    "model3_pred = [1.1, 2.9, 1.9, 6.0]\n",
    "\n",
    "y_true = [1, 3, 2, 6]\n",
    "\n",
    "# 查看各个模型预测结果\n",
    "print('--------------MAE--------------')\n",
    "print('Model1:{}'.format(mean_absolute_error(y_true, model1_pred)))\n",
    "print('Model2:{}'.format(mean_absolute_error(y_true, model2_pred)))\n",
    "print('Model3:{}'.format(mean_absolute_error(y_true, model3_pred)))"
   ]
  },
  {
   "cell_type": "markdown",
   "metadata": {},
   "source": [
    "#### 直接平均"
   ]
  },
  {
   "cell_type": "code",
   "execution_count": 2,
   "metadata": {},
   "outputs": [
    {
     "name": "stdout",
     "output_type": "stream",
     "text": [
      "Mean res: [1.         3.06666667 2.16666667 5.83333333]\n",
      "True res: [1 3 2 6]\n",
      "Mean pred MAE:0.10000000000000009\n"
     ]
    }
   ],
   "source": [
    "import numpy as np\n",
    "\n",
    "def mean_method(preds):\n",
    "    arrays = np.array([np.array(pred) for pred in preds])\n",
    "    return np.mean(arrays,axis=0)\n",
    "\n",
    "mean_res = mean_method([model1_pred,model2_pred,model3_pred])\n",
    "print('Mean res:',mean_res)\n",
    "print('True res:',np.array(y_true))\n",
    "print('Mean pred MAE:{}'.format(mean_absolute_error(y_true, mean_res)))"
   ]
  },
  {
   "cell_type": "markdown",
   "metadata": {},
   "source": [
    "对比结果来看可以发现直接平均效果不如第3个model单独的效果"
   ]
  },
  {
   "cell_type": "markdown",
   "metadata": {},
   "source": [
    "#### 加权平均\n",
    "加权平均依据模型预测结果进行权重分配，这里采用`mae`倒数"
   ]
  },
  {
   "cell_type": "code",
   "execution_count": 3,
   "metadata": {},
   "outputs": [
    {
     "name": "stdout",
     "output_type": "stream",
     "text": [
      "Weighted pred MAE:0.050000000000000044\n"
     ]
    }
   ],
   "source": [
    "\n",
    "def weighted_method(preds, scores):\n",
    "    weights = [score/sum(scores) for score in scores]\n",
    "    arrays  = [np.array(pred)*weight for pred, weight in zip(preds,weights)]\n",
    "    return np.sum(arrays, axis=0)\n",
    "\n",
    "model_preds = [model1_pred, model2_pred, model3_pred]\n",
    "scores = [1/mean_absolute_error(y_true, pred) for pred in model_preds]\n",
    "weighted_res = weighted_method(model_preds, scores)\n",
    "print('Weighted pred MAE:{}'.format(mean_absolute_error(y_true,weighted_res)))"
   ]
  },
  {
   "cell_type": "markdown",
   "metadata": {},
   "source": [
    "可以发现通过加权融合得到的结果的确比单个模型效果好"
   ]
  },
  {
   "cell_type": "markdown",
   "metadata": {},
   "source": [
    "### 投票\n",
    "包含硬投票（少数服从多数），软投票（投票概率平均），硬投票容易出现虽然有多个分类器投给A类，但是每个分类器A类的概率并不高（0.6），B类虽然投的分类器少，但是每个分类器B类的概率高（0.9）\n",
    "\n",
    "采用鸢尾花数据集作为分类器投票数据集"
   ]
  },
  {
   "cell_type": "code",
   "execution_count": 4,
   "metadata": {},
   "outputs": [
    {
     "data": {
      "text/plain": [
       "((105, 4), (45, 4))"
      ]
     },
     "execution_count": 4,
     "metadata": {},
     "output_type": "execute_result"
    }
   ],
   "source": [
    "from sklearn.datasets import load_iris\n",
    "\n",
    "from sklearn.svm import SVC\n",
    "from sklearn.ensemble import VotingClassifier  # 投票分类器\n",
    "from sklearn.linear_model import LogisticRegression\n",
    "from xgboost import XGBClassifier\n",
    "\n",
    "from sklearn.model_selection import train_test_split\n",
    "\n",
    "iris = load_iris()\n",
    "X = iris.data\n",
    "y = iris.target\n",
    "X_train, X_test, y_train, y_test = train_test_split(X,y, test_size=0.3)\n",
    "X_train.shape, X_test.shape"
   ]
  },
  {
   "cell_type": "markdown",
   "metadata": {},
   "source": [
    "#### 硬投票（简单投票）"
   ]
  },
  {
   "cell_type": "code",
   "execution_count": 5,
   "metadata": {},
   "outputs": [
    {
     "name": "stdout",
     "output_type": "stream",
     "text": [
      "logistic acc:0.9555555555555556\n",
      "rf acc:0.9333333333333333\n",
      "xgb acc:0.9555555555555556\n",
      "voting acc:0.9555555555555556\n"
     ]
    }
   ],
   "source": [
    "from xgboost import XGBClassifier\n",
    "from sklearn.linear_model import LogisticRegression\n",
    "from sklearn.ensemble import RandomForestClassifier, VotingClassifier\n",
    "\n",
    "from sklearn.metrics import accuracy_score\n",
    "\n",
    "clf1 = LogisticRegression(random_state=1, max_iter=500)\n",
    "clf2 = RandomForestClassifier(random_state=1)\n",
    "clf3 = XGBClassifier(learning_rate=0.1, n_estimators=150, max_depth=4, min_child_weight=2, subsample=0.7,objective='binary:logistic')\n",
    "\n",
    "vclf = VotingClassifier(estimators=[('lr', clf1), ('rf', clf2), ('xgb', clf3)], voting='hard')\n",
    "\n",
    "for name, clf in zip(['logistic','rf', 'xgb','voting'],[clf1, clf2, clf3, vclf]):\n",
    "    clf = clf.fit(X_train,y_train)\n",
    "    print('{} acc:{}'.format(name, accuracy_score(y_test, clf.predict(X_test))))\n"
   ]
  },
  {
   "cell_type": "markdown",
   "metadata": {},
   "source": [
    "#### 软投票（加权投票）"
   ]
  },
  {
   "cell_type": "code",
   "execution_count": 6,
   "metadata": {},
   "outputs": [
    {
     "name": "stdout",
     "output_type": "stream",
     "text": [
      "logistic acc:0.9555555555555556\n",
      "rf acc:0.9333333333333333\n"
     ]
    },
    {
     "name": "stderr",
     "output_type": "stream",
     "text": [
      "d:\\python3\\lib\\site-packages\\sklearn\\linear_model\\_logistic.py:762: ConvergenceWarning: lbfgs failed to converge (status=1):\n",
      "STOP: TOTAL NO. of ITERATIONS REACHED LIMIT.\n",
      "\n",
      "Increase the number of iterations (max_iter) or scale the data as shown in:\n",
      "    https://scikit-learn.org/stable/modules/preprocessing.html\n",
      "Please also refer to the documentation for alternative solver options:\n",
      "    https://scikit-learn.org/stable/modules/linear_model.html#logistic-regression\n",
      "  n_iter_i = _check_optimize_result(\n"
     ]
    },
    {
     "name": "stdout",
     "output_type": "stream",
     "text": [
      "xgb acc:0.9555555555555556\n",
      "voting acc:0.9555555555555556\n"
     ]
    },
    {
     "name": "stderr",
     "output_type": "stream",
     "text": [
      "d:\\python3\\lib\\site-packages\\sklearn\\linear_model\\_logistic.py:762: ConvergenceWarning: lbfgs failed to converge (status=1):\n",
      "STOP: TOTAL NO. of ITERATIONS REACHED LIMIT.\n",
      "\n",
      "Increase the number of iterations (max_iter) or scale the data as shown in:\n",
      "    https://scikit-learn.org/stable/modules/preprocessing.html\n",
      "Please also refer to the documentation for alternative solver options:\n",
      "    https://scikit-learn.org/stable/modules/linear_model.html#logistic-regression\n",
      "  n_iter_i = _check_optimize_result(\n"
     ]
    }
   ],
   "source": [
    "from xgboost import XGBClassifier\n",
    "from sklearn.linear_model import LogisticRegression\n",
    "from sklearn.ensemble import RandomForestClassifier, VotingClassifier\n",
    "clf1 = LogisticRegression(random_state=1)\n",
    "clf2 = RandomForestClassifier(random_state=1)\n",
    "clf3 = XGBClassifier(learning_rate=0.1, n_estimators=150, max_depth=4, min_child_weight=2, subsample=0.7,objective='binary:logistic')\n",
    " \n",
    "vclf = VotingClassifier(estimators=[('lr', clf1), ('rf', clf2), ('xgb', clf3)], voting='soft', weights=[2, 1, 1])\n",
    "for name, clf in zip(['logistic','rf', 'xgb','voting'],[clf1, clf2, clf3, vclf]):\n",
    "    clf = clf.fit(X_train,y_train)\n",
    "    print('{} acc:{}'.format(name, accuracy_score(y_test, clf.predict(X_test))))"
   ]
  },
  {
   "cell_type": "markdown",
   "metadata": {},
   "source": [
    "结果没有体现出投票的优越性，估计是数据集太简单"
   ]
  },
  {
   "cell_type": "markdown",
   "metadata": {},
   "source": [
    "### stacking\n",
    "stacking主要有两层训练和预测的过程\n",
    "- 第一层训练采用原始训练集、测试集（验证集）数据，同时采用多个不同的模型，每个模型都能得到一套在训练集上的预测结果$P_i$(i对应模型i)和测试集上的预测结果$T_i$。\n",
    "- 将第一层训练得到的所有$P_i$组合形成新的训练集，$T_i$组合形成新的测试集。用新的训练集训练模型，同时在新的测试集上测试。\n",
    "\n",
    "缓解过拟合\n",
    "- 第二层用的训练模型选择简单线性模型\n",
    "- 第一层训练模型采用交叉验证的方式（如下图）\n",
    "> 下面的图包含不同模型在训练集（图1）、测试集（图2）上的操作\n",
    "    - 对于训练集上训练时，采用5折交叉验证，将验证集的结果拼接得到完整的训练集上的预测结果$P_i$（新的特征）再将这些特征组合作为训练集在第二层模型上训练\n",
    "    - 对于测试集，每折的训练集模型都对应产生一套预测结果，将这些结果求和取平均得到第二层预测的$T_i$,再见这些$T_i$组合作为新测试集让第二层模型预测\n",
    "![stacking.png](https://img-blog.csdnimg.cn/2020091301240256.png)\n",
    "![](https://img-blog.csdnimg.cn/20200401152249882.png)\n",
    "\n",
    "更具体的内容可以看下面这张图：\n",
    "例如模型1是`xgb`,模型2是`lgb`,...。\n",
    "- 训练阶段：训练得到的结果中每个黄框是`n*1`（交叉验证每一份样本数是n）预测得到的是对每一份样本分类的概率，将这些概率全部组合得到第二层的训练集，选择其中一份作为验证集。\n",
    "- 测试阶段：预测得到的是所有样本的分类概率（根据每折训练集训练得到模型预测概率结果取平均）`m*1`，再将这些结果组合形成第二层测试集用于给第二层训练得到模型进行预测。\n",
    "![](https://img-blog.csdnimg.cn/20200401152449444.png)\n"
   ]
  },
  {
   "cell_type": "code",
   "execution_count": 7,
   "metadata": {},
   "outputs": [
    {
     "name": "stdout",
     "output_type": "stream",
     "text": [
      "----------MAE---------\n",
      "test1 MAE: 0.1750000000000001\n",
      "test2 MAE: 0.07499999999999993\n",
      "test3 MAE: 0.10000000000000009\n",
      "stacking MAE: 0.042134831460675204\n"
     ]
    }
   ],
   "source": [
    "from sklearn.linear_model import LinearRegression\n",
    "import pandas as pd\n",
    "\n",
    "# 训练数据预测结果作为新特征输入，相当于[3.2,2.9,3.1] -> 3\n",
    "train_pred1 = [3.2, 8.2, 9.1, 5.2]\n",
    "train_pred2 = [2.9, 8.1, 9.0, 4.9]\n",
    "train_pred3 = [3.1, 7.9, 9.2, 5.0]\n",
    "\n",
    "# 训练数据真实结果\n",
    "train_y_true = [3, 8, 9, 5]\n",
    "\n",
    "# 测试数据预测结果\n",
    "test_pred1 = [1.2, 3.2, 2.1, 6.2]\n",
    "test_pred2 = [0.9, 3.1, 2.0, 5.9]\n",
    "test_pred3 = [1.1, 2.9, 2.2, 6.0]\n",
    "\n",
    "# 测试数据真实结果\n",
    "test_y_true = [1, 3, 2, 6]\n",
    "\n",
    "\n",
    "def stacking_method(train_preds,train_y_true,test_preds,model_L2= LinearRegression()):\n",
    "    model_L2.fit(np.array([train_pred1, train_pred2, train_pred3]).T,train_y_true)\n",
    "    Stacking_result = model_L2.predict(np.array(test_preds).T)\n",
    "    return Stacking_result\n",
    " \n",
    "# # 第二层的模型采用简单线性回归\n",
    "# model_L2 = LinearRegression()\n",
    "# Stacking_pre = Stacking_method(train_reg1, train_reg2, train_reg3, y_train_true,\n",
    "#                                test_pre1, test_pre2, test_pre3, model_L2)\n",
    "# print('Stacking_pre MAE:', mean_absolute_error(y_test_true, Stacking_pre))\n",
    "\n",
    "stacking_pred = stacking_method([train_pred1, train_pred2, train_pred3],train_y_true, [test_pred1, test_pred2, test_pred3])\n",
    "print('----------MAE---------')\n",
    "print('test1 MAE:', mean_absolute_error(test_y_true, test_pred1))\n",
    "print('test2 MAE:', mean_absolute_error(test_y_true, test_pred2))\n",
    "print('test3 MAE:', mean_absolute_error(test_y_true, test_pred3))\n",
    "print('stacking MAE:', mean_absolute_error(test_y_true, stacking_pred))"
   ]
  },
  {
   "cell_type": "markdown",
   "metadata": {},
   "source": [
    "可以看到stacking对于结果是有提升的,上面的过程中省略了第一层的训练测试，用假设的模型预测结果进行第二层的训练。下面采用已有的stacking工具，进行回归和分类的操作"
   ]
  },
  {
   "cell_type": "markdown",
   "metadata": {},
   "source": [
    "#### stacking：回归\n",
    "用波士顿房价数据测试`StackingCVRegressor`效果\n",
    "- StackingCVRegressor（regressors，meta_regressor，cv = 5，shuffle = True，use_features_in_secondary = False）\n",
    "    - regressors: 基回归器，列表的形式，所有要进行stacking的模型，第一层的模型， 例如xgb和lgb，[xgb, lgb]\n",
    "    - meta_regressor: 元回归器， 这个可以理解为第二层的那个模型，即将前面回归器结果合起来的那个回归器，直接采用线性回归\n",
    "    - cv: 交叉验证策略， 默认是5折交叉验证\n",
    "    - use_features_in_secondary: 默认是False， 意思是第二层的回归器只接收第一层回归器的结果进行训练和预测，如果设置为true，意思是第二层的回归器不仅接收第一层回归器的结果，还接收原始的数据集一块进行训练。\n",
    "    - shuffle：如果设置为true， 则在交叉验证之前的训练数据将在拟合阶段打乱顺序。"
   ]
  },
  {
   "cell_type": "code",
   "execution_count": 8,
   "metadata": {},
   "outputs": [
    {
     "data": {
      "text/plain": [
       "((506, 13), (506,))"
      ]
     },
     "execution_count": 8,
     "metadata": {},
     "output_type": "execute_result"
    }
   ],
   "source": [
    "from mlxtend.regressor import StackingCVRegressor\n",
    "from sklearn.datasets import load_boston\n",
    "\n",
    "boston = load_boston()\n",
    "X = boston.data\n",
    "y = boston.target\n",
    "X.shape, y.shape"
   ]
  },
  {
   "cell_type": "code",
   "execution_count": 10,
   "metadata": {},
   "outputs": [],
   "source": [
    "from sklearn.model_selection import train_test_split\n",
    "from xgboost import XGBRegressor\n",
    "from lightgbm import LGBMRegressor\n",
    "X_train, X_test, y_train, y_test = train_test_split(X, y, test_size=0.2)\n",
    "\n",
    "def build_xgb_model(X_train, y_train):\n",
    "    model = XGBRegressor(n_estimators=200,\n",
    "                        learning_rate=0.1,\n",
    "                        max_depth=7,\n",
    "                        subsample=0.8,\n",
    "                        colsample_bytree=0.9)\n",
    "    model.fit(X_train, y_train)\n",
    "    return model\n",
    "\n",
    "def build_lgb_model(X_train, y_train):\n",
    "    model = LGBMRegressor(n_estimators=400,\n",
    "                          learning_rate=0.1, \n",
    "                          objective='regression_l1')\n",
    "    model.fit(X_train, y_train)\n",
    "    return model\n",
    "\n",
    "def build_stack_model(X_train, y_train, regressors, lr=LinearRegression()):\n",
    "    model = StackingCVRegressor(regressors=regressors, meta_regressor=lr)\n",
    "    model.fit(X_train, y_train)\n",
    "    return model\n"
   ]
  },
  {
   "cell_type": "code",
   "execution_count": 13,
   "metadata": {},
   "outputs": [
    {
     "name": "stdout",
     "output_type": "stream",
     "text": [
      "XGB MAE:1.7408589306999662\n",
      "LGB MAE:1.8312380680760862\n",
      "Stacking MAE:1.7073373654154247\n"
     ]
    }
   ],
   "source": [
    "# xgb\n",
    "xgb_model = build_xgb_model(X_train, y_train)\n",
    "print('XGB MAE:{}'.format(mean_absolute_error(y_test, xgb_model.predict(X_test))))\n",
    "\n",
    "lgb_model = build_lgb_model(X_train, y_train)\n",
    "print('LGB MAE:{}'.format(mean_absolute_error(y_test, lgb_model.predict(X_test))))\n",
    "\n",
    "# stack\n",
    "xgb = XGBRegressor(n_estimators=400,\n",
    "                        learning_rate=0.1,\n",
    "                        max_depth=7,\n",
    "                        subsample=0.8,\n",
    "                        colsample_bytree=0.9)\n",
    "lgb = LGBMRegressor(n_estimators=400,\n",
    "                          learning_rate=0.1, \n",
    "                          objective='regression_l1')\n",
    "stack_model = build_stack_model(X_train,y_train,[xgb, lgb])\n",
    "print('Stacking MAE:{}'.format(mean_absolute_error(y_test,stack_model.predict(X_test))))"
   ]
  },
  {
   "cell_type": "markdown",
   "metadata": {},
   "source": [
    "可以看到stacking的确是有提升的"
   ]
  },
  {
   "cell_type": "markdown",
   "metadata": {},
   "source": [
    "#### stacking：分类\n",
    "采用鸢尾花数据集测试分类中`stacking`的效果"
   ]
  },
  {
   "cell_type": "code",
   "execution_count": 24,
   "metadata": {},
   "outputs": [
    {
     "data": {
      "text/plain": [
       "((150, 2), (150,))"
      ]
     },
     "execution_count": 24,
     "metadata": {},
     "output_type": "execute_result"
    }
   ],
   "source": [
    "from mlxtend.classifier import StackingCVClassifier\n",
    "from sklearn.neighbors import KNeighborsClassifier\n",
    "from sklearn.ensemble import RandomForestClassifier\n",
    "from sklearn.naive_bayes import GaussianNB\n",
    "from sklearn.model_selection import cross_val_score\n",
    "from mlxtend.plotting import plot_learning_curves, plot_decision_regions\n",
    "import matplotlib.pyplot as plt\n",
    "import matplotlib.gridspec as gridspec\n",
    "import itertools\n",
    "\n",
    "iris = load_iris()\n",
    "X = iris.data[:,1:3]\n",
    "y = iris.target\n",
    "X.shape, y.shape"
   ]
  },
  {
   "cell_type": "code",
   "execution_count": 25,
   "metadata": {},
   "outputs": [
    {
     "name": "stdout",
     "output_type": "stream",
     "text": [
      "Accuracy: 0.91 (+/- 0.07) [KNN]\n",
      "Accuracy: 0.94 (+/- 0.04) [Random Forest]\n",
      "Accuracy: 0.91 (+/- 0.04) [Naive Bayes]\n",
      "Accuracy: 0.93 (+/- 0.03) [Stacking Classifier]\n"
     ]
    },
    {
     "data": {
      "image/png": "[encoded data removed]",
      "text/plain": [
       "<Figure size 720x576 with 4 Axes>"
      ]
     },
     "metadata": {
      "needs_background": "light"
     },
     "output_type": "display_data"
    }
   ],
   "source": [
    "X_train, X_test, y_train, y_test = train_test_split(X, y, test_size=0.2)\n",
    "\n",
    "clf1 = KNeighborsClassifier(n_neighbors=1)\n",
    "clf2 = RandomForestClassifier(random_state=1)\n",
    "clf3 = GaussianNB()\n",
    "lr = LogisticRegression()\n",
    "sclf = StackingCVClassifier(classifiers=[clf1, clf2, clf3], \n",
    "                          meta_classifier=lr)\n",
    "\n",
    "label = ['KNN', 'Random Forest', 'Naive Bayes', 'Stacking Classifier']\n",
    "clf_list = [clf1, clf2, clf3, sclf]\n",
    "    \n",
    "fig = plt.figure(figsize=(10,8))\n",
    "gs = gridspec.GridSpec(2, 2)\n",
    "grid = itertools.product([0,1],repeat=2)\n",
    "\n",
    "\n",
    "clf_cv_mean = []\n",
    "clf_cv_std = []\n",
    "for clf, label, grd in zip(clf_list, label, grid):\n",
    "        \n",
    "    scores = cross_val_score(clf, X, y, cv=5, scoring='accuracy')\n",
    "    print(\"Accuracy: %.2f (+/- %.2f) [%s]\" %(scores.mean(), scores.std(), label))\n",
    "    clf_cv_mean.append(scores.mean())\n",
    "    clf_cv_std.append(scores.std())\n",
    "        \n",
    "    clf.fit(X, y)\n",
    "    ax = plt.subplot(gs[grd[0], grd[1]])\n",
    "    fig = plot_decision_regions(X=X, y=y, clf=clf)\n",
    "    plt.title(label)\n",
    " \n",
    "\n",
    "plt.show()"
   ]
  },
  {
   "cell_type": "markdown",
   "metadata": {},
   "source": [
    "### blending\n",
    "本质上和`stacking`没啥区别，通过对训练集做拆分，一部分用于训练一部分用于测试将测试的结果作为特征进入第二层训练\n",
    "![blending.png](https://img-blog.csdnimg.cn/20200913012401958.png)"
   ]
  },
  {
   "cell_type": "markdown",
   "metadata": {},
   "source": [
    "## 融合方法应用\n",
    "将融合方法应用到本次比赛中"
   ]
  },
  {
   "cell_type": "markdown",
   "metadata": {},
   "source": []
  }
 ],
 "metadata": {
  "kernelspec": {
   "display_name": "Python 3",
   "language": "python",
   "name": "python3"
  },
  "language_info": {
   "codemirror_mode": {
    "name": "ipython",
    "version": 3
   },
   "file_extension": ".py",
   "mimetype": "text/x-python",
   "name": "python",
   "nbconvert_exporter": "python",
   "pygments_lexer": "ipython3",
   "version": "3.8.5"
  },
  "toc": {
   "base_numbering": 1,
   "nav_menu": {},
   "number_sections": true,
   "sideBar": true,
   "skip_h1_title": true,
   "title_cell": "目录",
   "title_sidebar": "Contents",
   "toc_cell": false,
   "toc_position": {},
   "toc_section_display": true,
   "toc_window_display": true
  }
 },
 "nbformat": 4,
 "nbformat_minor": 4
}
