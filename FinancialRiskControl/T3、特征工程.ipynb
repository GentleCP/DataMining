{
 "cells": [
  {
   "cell_type": "markdown",
   "metadata": {},
   "source": [
    "# 处理步骤\n",
    "特征工程实际上就是对数据的处理，在将数据送入分类模型之前，需要将数据转换成合适的形式\n",
    "\n",
    "- 数据预处理：对数据的基本处理操作\n",
    "    - 填充缺失值\n",
    "    - 处理时间格式的数据\n",
    "    - 转换对象（非数值）类型特征到数值特征\n",
    "- 异常值处理：？\n",
    "    - 基于3segama原则\n",
    "    - 基于箱型图\n",
    "- 数据分箱：将数据按照预定的格式划分取值\n",
    "    - 固定宽度分箱\n",
    "    - 分位数分箱\n",
    "        - 离散数值型数据分箱\n",
    "        - 连续数值型数据分箱\n",
    "    - 卡方分箱？\n",
    "- 特征交互：？\n",
    "    - 特征和特征之间组合\n",
    "    - 特征和特征之间衍生\n",
    "- 特征编码\n",
    "    - one-hot编码\n",
    "    - label-encode编码\n",
    "- 特征选择：？\n",
    "    - Filter\n",
    "    - Wrapper（RFE）\n",
    "    - Embedded\n",
    "\n",
    "# 数据预处理"
   ]
  },
  {
   "cell_type": "code",
   "execution_count": 1,
   "metadata": {},
   "outputs": [],
   "source": [
    "import pandas as pd\n",
    "import numpy as np\n",
    "import matplotlib.pyplot as plt\n",
    "import seaborn as sns\n",
    "import datetime\n",
    "from tqdm import tqdm\n",
    "\n",
    "from sklearn.preprocessing import LabelEncoder  \n",
    "from sklearn.preprocessing import MinMaxScaler  # ?\n",
    "from sklearn.feature_selection import SelectKBest  # ?\n",
    "from sklearn.feature_selection import chi2  # ?\n",
    "from sklearn.model_selection import StratifiedKFold  # ?\n",
    "from sklearn.model_selection import KFold  # ?\n",
    "from sklearn.metrics import accuracy_score, f1_score, roc_auc_score, log_loss\n",
    "\n",
    "import xgboost as xgb  # ?\n",
    "import lightgbm as lgb  # ?\n",
    "from catboost import CatBoostRegressor  # ?\n",
    "\n",
    "import warnings\n",
    "warnings.filterwarnings('ignore')"
   ]
  },
  {
   "cell_type": "code",
   "execution_count": 2,
   "metadata": {},
   "outputs": [
    {
     "data": {
      "text/plain": [
       "((800000, 47), (200000, 48))"
      ]
     },
     "execution_count": 2,
     "metadata": {},
     "output_type": "execute_result"
    }
   ],
   "source": [
    "df_train = pd.read_csv('train.csv')\n",
    "df_test = pd.read_csv('testA.csv')\n",
    "df_train.shape, df_test.shape"
   ]
  },
  {
   "cell_type": "code",
   "execution_count": 3,
   "metadata": {},
   "outputs": [],
   "source": [
    "numerical_feats = df_train.select_dtypes(exclude=['object']).columns.tolist()\n",
    "category_feats = df_train.select_dtypes(include=['object']).columns.tolist()\n",
    "label = 'isDefault'\n",
    "numerical_feats.remove(label)"
   ]
  },
  {
   "cell_type": "markdown",
   "metadata": {},
   "source": [
    "## 填充缺失值\n",
    "因为各个特征的缺失比例较低，选择填充的方式弥补缺失值，填充方法有：\n",
    "- 固定填充\n",
    "    ```\n",
    "    df_train = df_train.fillna(0)  # 也可以对指定列进行固定填充，也可以采用均值填充\n",
    "    ```\n",
    "- 以上填充：用缺失值上面的值填充缺失值\n",
    "    ```\n",
    "    df_train = df_train.fillna(axis=0, method='ffill')\n",
    "    ```\n",
    "- 以下填充：用缺失值下面的值填充缺失值\n",
    "    ```\n",
    "    df_train = df_train.fillna(axis=0, method='bfill',limit=2)  # 限制最多只填充两个连续缺失值\n",
    "    ```"
   ]
  },
  {
   "cell_type": "code",
   "execution_count": 4,
   "metadata": {},
   "outputs": [
    {
     "data": {
      "text/plain": [
       "id                        0\n",
       "loanAmnt                  0\n",
       "term                      0\n",
       "interestRate              0\n",
       "installment               0\n",
       "grade                     0\n",
       "subGrade                  0\n",
       "employmentTitle           1\n",
       "employmentLength      46799\n",
       "homeOwnership             0\n",
       "annualIncome              0\n",
       "verificationStatus        0\n",
       "issueDate                 0\n",
       "isDefault                 0\n",
       "purpose                   0\n",
       "postCode                  1\n",
       "regionCode                0\n",
       "dti                     239\n",
       "delinquency_2years        0\n",
       "ficoRangeLow              0\n",
       "ficoRangeHigh             0\n",
       "openAcc                   0\n",
       "pubRec                    0\n",
       "pubRecBankruptcies      405\n",
       "revolBal                  0\n",
       "revolUtil               531\n",
       "totalAcc                  0\n",
       "initialListStatus         0\n",
       "applicationType           0\n",
       "earliesCreditLine         0\n",
       "title                     1\n",
       "policyCode                0\n",
       "n0                    40270\n",
       "n1                    40270\n",
       "n2                    40270\n",
       "n2.1                  40270\n",
       "n4                    33239\n",
       "n5                    40270\n",
       "n6                    40270\n",
       "n7                    40270\n",
       "n8                    40271\n",
       "n9                    40270\n",
       "n10                   33239\n",
       "n11                   69752\n",
       "n12                   40270\n",
       "n13                   40270\n",
       "n14                   40270\n",
       "dtype: int64"
      ]
     },
     "execution_count": 4,
     "metadata": {},
     "output_type": "execute_result"
    }
   ],
   "source": [
    "df_train.isnull().sum()"
   ]
  },
  {
   "cell_type": "code",
   "execution_count": null,
   "metadata": {},
   "outputs": [],
   "source": [
    "# 对数值类型用中位数填充\n",
    "df_train[numerical_feats] = "
   ]
  }
 ],
 "metadata": {
  "kernelspec": {
   "display_name": "Python 3",
   "language": "python",
   "name": "python3"
  },
  "language_info": {
   "codemirror_mode": {
    "name": "ipython",
    "version": 3
   },
   "file_extension": ".py",
   "mimetype": "text/x-python",
   "name": "python",
   "nbconvert_exporter": "python",
   "pygments_lexer": "ipython3",
   "version": "3.8.5"
  },
  "toc": {
   "base_numbering": 1,
   "nav_menu": {},
   "number_sections": true,
   "sideBar": true,
   "skip_h1_title": true,
   "title_cell": "目录",
   "title_sidebar": "Contents",
   "toc_cell": false,
   "toc_position": {},
   "toc_section_display": true,
   "toc_window_display": false
  }
 },
 "nbformat": 4,
 "nbformat_minor": 4
}
