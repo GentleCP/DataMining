{
 "cells": [
  {
   "cell_type": "markdown",
   "metadata": {},
   "source": [
    "# 1. 赛题信息\n",
    "\n",
    "- 数据：某信贷平台的贷款记录，总数据量超过120w，包含47列变量信息，其中15列为匿名变量，80万条作为训练集，20万条作为测试集A，20万条作为测试集B\n",
    "- 任务：预测用户贷款是否违约，给出概率`isDefault`\n",
    "- 特征说明：  \n",
    "    - id\t为贷款清单分配的唯一信用证标识\n",
    "    - loanAmnt\t贷款金额\n",
    "    - term\t贷款期限（year）\n",
    "    - interestRate\t贷款利率\n",
    "    - installment\t分期付款金额\n",
    "    - grade\t贷款等级\n",
    "    - subGrade\t贷款等级之子级\n",
    "    - employmentTitle\t就业职称\n",
    "    - employmentLength\t就业年限（年）\n",
    "    - homeOwnership\t借款人在登记时提供的房屋所有权状况\n",
    "    - annualIncome\t年收入\n",
    "    - verificationStatus\t验证状态\n",
    "    - issueDate\t贷款发放的月份\n",
    "    - purpose\t借款人在贷款申请时的贷款用途类别\n",
    "    - postCode\t借款人在贷款申请中提供的邮政编码的前3位数字\n",
    "    - regionCode\t地区编码\n",
    "    - dti\t债务收入比\n",
    "    - delinquency_2years\t借款人过去2年信用档案中逾期30天以上的违约事件数\n",
    "    - ficoRangeLow\t借款人在贷款发放时的fico所属的下限范围\n",
    "    - ficoRangeHigh\t借款人在贷款发放时的fico所属的上限范围\n",
    "    - openAcc\t借款人信用档案中未结信用额度的数量\n",
    "    - pubRec\t贬损公共记录的数量\n",
    "    - pubRecBankruptcies\t公开记录清除的数量\n",
    "    - revolBal\t信贷周转余额合计\n",
    "    - revolUtil\t循环额度利用率，或借款人使用的相对于所有可用循环信贷的信贷金额\n",
    "    - totalAcc\t借款人信用档案中当前的信用额度总数\n",
    "    - initialListStatus\t贷款的初始列表状态\n",
    "    - applicationType\t表明贷款是个人申请还是与两个共同借款人的联合申请\n",
    "    - earliesCreditLine\t借款人最早报告的信用额度开立的月份\n",
    "    - title\t借款人提供的贷款名称\n",
    "    - policyCode\t公开可用的策略_代码=1新产品不公开可用的策略_代码=2\n",
    "    - n系列匿名特征\t匿名特征n0-n14，为一些贷款人行为计数特征的处理\n",
    "- 评测指标：**AUC**评估  "
   ]
  },
  {
   "cell_type": "markdown",
   "metadata": {},
   "source": [
    "# 2. 预测指标小结\n",
    "对分类问题中常见的预测指标进行总结说明，并给出相应样例代码\n",
    "- [一篇不错的评测指标说明文](https://www.cnblogs.com/guoyaohua/p/classification-metrics.html)\n",
    "\n",
    "## 2.1 混淆矩阵\n",
    "用于二分类，将分类按照正负两类划分（如有病，没病），根据预测结果和实际结果是否相符定义几个指标：\n",
    "- `TP`:预测为正，实际为正，P(positive)表示正，T(True)表示预测正确\n",
    "- `FP`:预测为正，实际为负\n",
    "- `TN`:预测为负，实际为负\n",
    "- `FN`:预测为负，实际为正"
   ]
  },
  {
   "cell_type": "code",
   "execution_count": 1,
   "metadata": {},
   "outputs": [
    {
     "name": "stdout",
     "output_type": "stream",
     "text": [
      "混淆矩阵:\n",
      " [[1 1]\n",
      " [1 1]]\n"
     ]
    }
   ],
   "source": [
    "import numpy as np\n",
    "from sklearn.metrics import confusion_matrix\n",
    "y_pred = [0, 1, 0, 1]\n",
    "y_true = [0, 1, 1, 0]\n",
    "print('混淆矩阵:\\n',confusion_matrix(y_true, y_pred))"
   ]
  },
  {
   "cell_type": "markdown",
   "metadata": {},
   "source": [
    "## 2.2 准确率\n",
    "正确划分正例和负例的比例"
   ]
  },
  {
   "cell_type": "code",
   "execution_count": 2,
   "metadata": {},
   "outputs": [
    {
     "name": "stdout",
     "output_type": "stream",
     "text": [
      "acc: 0.75\n"
     ]
    }
   ],
   "source": [
    "from sklearn.metrics import accuracy_score\n",
    "\n",
    "y_pred = [0,1,0,1]\n",
    "y_true = [0,1,1,1]\n",
    "print('acc:', accuracy_score(y_true, y_pred))  # 0.75"
   ]
  },
  {
   "cell_type": "markdown",
   "metadata": {},
   "source": [
    "## 2.3 精确率\n",
    "正例预测正确的比例，适用于只关心正例的问题，例如疾病要尽量查出有病"
   ]
  },
  {
   "cell_type": "code",
   "execution_count": 4,
   "metadata": {},
   "outputs": [
    {
     "name": "stdout",
     "output_type": "stream",
     "text": [
      "precision: 1.0\n"
     ]
    }
   ],
   "source": [
    "from sklearn import metrics\n",
    "\n",
    "y_pred = [0,1,0,0]\n",
    "y_true = [0,1,1,1]\n",
    "print('precision:',metrics.precision_score(y_true, y_pred))  # 1.0"
   ]
  },
  {
   "cell_type": "markdown",
   "metadata": {},
   "source": [
    "## 2.4 召回率\n",
    "正确预测正例占所有正例的比例，即有多少正例被检测出来，检测罪犯要高"
   ]
  },
  {
   "cell_type": "code",
   "execution_count": 5,
   "metadata": {},
   "outputs": [
    {
     "name": "stdout",
     "output_type": "stream",
     "text": [
      "recall: 0.3333333333333333\n"
     ]
    }
   ],
   "source": [
    "from sklearn import metrics\n",
    "\n",
    "y_pred = [0,1,0,0]\n",
    "y_true = [0,1,1,1]\n",
    "print('recall:',metrics.recall_score(y_true, y_pred))  # 0.5"
   ]
  },
  {
   "cell_type": "markdown",
   "metadata": {},
   "source": [
    "## 2.5 F1-score\n",
    "同时考虑precision和recall两者的性能，用于全面地衡量分类正例的能力"
   ]
  },
  {
   "cell_type": "code",
   "execution_count": 6,
   "metadata": {},
   "outputs": [
    {
     "name": "stdout",
     "output_type": "stream",
     "text": [
      "f1: 0.5\n"
     ]
    }
   ],
   "source": [
    "from sklearn import metrics\n",
    "\n",
    "y_pred = [0,1,0,0]\n",
    "y_true = [0,1,1,1]\n",
    "print('f1:',metrics.f1_score(y_true, y_pred))  # 0.667"
   ]
  },
  {
   "cell_type": "markdown",
   "metadata": {},
   "source": [
    "## 2.6 PR曲线\n",
    "以recall为横轴，precision为纵轴绘制的曲线，每一个点是选取了不同的划分阈值得到了不同的PR，通常我们对各个分类的判断是一个概率值，选择不同概率值作为划分边界（一般认为是0.5），样本被划分为正负的结果也不同，不段调整这个阈值，得到PR曲线。\n",
    "- `sklearn.metrics.precision_recall_curve`：\n",
    "    - input：\n",
    "        - `y_ture`:二分类标签真实值，默认是`{-1,1}`或`{0,1}`，如果不是需要在`pos_label`中指定\n",
    "        - `probas_pred`:各个样本分类为正例的概率，与`y_ture`对应，例如[0.5,0.2]表示第一个样本被分为正例（1）的概率是0.5\n",
    "        - `pos_label`:二分类的标签，为None时，默认`{-1,1}`或`{0,1}`\n",
    "    - return：\n",
    "        - `precision`:按照不同概率阈值划分后得到的精度，长度是阈值个数+1，最后一个是1\n",
    "        - `recall`:与precision对应，最后一个是0\n",
    "        - `thresholds`:按照从小到大的顺序，对从第二个概率（因为>=阈值的视作正例，如果从第1个开始就所有的都是正例）开始分别进行PR的计算\n",
    "    "
   ]
  },
  {
   "cell_type": "code",
   "execution_count": 10,
   "metadata": {},
   "outputs": [
    {
     "name": "stdout",
     "output_type": "stream",
     "text": [
      "P:[0.66666667 0.5        1.         1.        ]\n",
      "R:[1.  0.5 0.5 0. ]\n",
      "T:[0.35 0.4  0.8 ]\n"
     ]
    },
    {
     "data": {
      "text/plain": [
       "[<matplotlib.lines.Line2D at 0x7faaee433640>]"
      ]
     },
     "execution_count": 10,
     "metadata": {},
     "output_type": "execute_result"
    },
    {
     "data": {
      "image/png": "[encoded data removed]",
      "text/plain": [
       "<Figure size 432x288 with 1 Axes>"
      ]
     },
     "metadata": {
      "needs_background": "light"
     },
     "output_type": "display_data"
    }
   ],
   "source": [
    "import matplotlib.pyplot as plt\n",
    "import numpy as np\n",
    "from sklearn.metrics import precision_recall_curve\n",
    "\n",
    "y_true = np.array([0, 0, 1, 1])\n",
    "y_scores = np.array([0.1, 0.4, 0.35, 0.8])\n",
    "precision, recall, thresholds = precision_recall_curve(y_true, y_scores)\n",
    "print('P:{}\\nR:{}\\nT:{}'.format(precision, recall, thresholds))\n",
    "plt.plot(recall,precision)"
   ]
  },
  {
   "cell_type": "markdown",
   "metadata": {},
   "source": [
    "## 2.7 ROC曲线\n",
    "涉及到`TPR`,`FPR`两个新指标：\n",
    "- `TPR（true positive rate）`：$\\frac{TP}{TP+FN}$与recall相同，是所有预测正确预测为正例的样本占总正例样本的比例\n",
    "- `FPR(false positive rate)`：$\\frac{FP}{TN+FP}$被错误预测为正例的样本占所有负例样本的比例\n",
    "\n",
    "与PR曲线类似，该曲线也采用不同阈值的方式得到不同的`TPR`,`FPR`，然后绘制曲线，该曲线永远在$y=x$上方\n",
    "- `sklearn.metrics.roc_curve`:基本与`precision_recall_curve`相同，只是输入可以是概率，也可以是分数，返回`TPR`,`FPR`,`thresholds`\n",
    "    - `FPR`:递增，以thresholds[i]作为阈值`>=thresholds[i]`的视为正例\n",
    "    - `TPR`:递增\n",
    "    - `thresholds`:递减，thresholds[0]被认定为没有样本被预测为正例，是`max(y_score)+1`,相当于`fpr,tpr`起点是`(0,0)`."
   ]
  },
  {
   "cell_type": "code",
   "execution_count": 4,
   "metadata": {},
   "outputs": [
    {
     "name": "stdout",
     "output_type": "stream",
     "text": [
      "fpr:[0.  0.  0.5 0.5 1. ]\n",
      "tpr:[0.  0.5 0.5 1.  1. ]\n",
      "T:[1.8  0.8  0.4  0.35 0.1 ]\n"
     ]
    },
    {
     "data": {
      "text/plain": [
       "Text(0.5, 0, 'FPR')"
      ]
     },
     "execution_count": 4,
     "metadata": {},
     "output_type": "execute_result"
    },
    {
     "data": {
      "image/png": "[encoded data removed]",
      "text/plain": [
       "<Figure size 432x288 with 1 Axes>"
      ]
     },
     "metadata": {
      "needs_background": "light"
     },
     "output_type": "display_data"
    }
   ],
   "source": [
    "import numpy as np\n",
    "from sklearn import metrics\n",
    "import matplotlib.pyplot as plt\n",
    "\n",
    "y_true = np.array([1, 1, 2, 2])\n",
    "y_score = np.array([0.1, 0.4, 0.35, 0.8])\n",
    "fpr, tpr, thresholds = metrics.roc_curve(y_true, y_score, pos_label=2)  # 指定pos_label\n",
    "\n",
    "print('fpr:{}\\ntpr:{}\\nT:{}'.format(fpr, tpr, thresholds))\n",
    "plt.title('ROC')\n",
    "plt.plot(fpr, tpr,'b')\n",
    "plt.plot([0,1],[0,1],'r--')\n",
    "plt.ylabel('TPR')\n",
    "plt.xlabel('FPR')"
   ]
  },
  {
   "cell_type": "markdown",
   "metadata": {},
   "source": [
    "## 2.8 AUC面积\n",
    "ROC曲线是越上凸越好，但需要一个定量值进行刻画，即AUC面积，它是ROC曲线与其下坐标轴围成的面积，面积越大，说明分类器性能越好，面积的计算采用积分"
   ]
  },
  {
   "cell_type": "code",
   "execution_count": 13,
   "metadata": {},
   "outputs": [
    {
     "name": "stdout",
     "output_type": "stream",
     "text": [
      "AUC: 0.75\n"
     ]
    }
   ],
   "source": [
    "import numpy as np\n",
    "from sklearn import metrics\n",
    "\n",
    "y_true = np.array([0,0,1,1])\n",
    "y_score = np.array([0.1,0.4,0.35,0.8])\n",
    "print('AUC:',metrics.roc_auc_score(y_true, y_scores))  # 0.75"
   ]
  },
  {
   "cell_type": "markdown",
   "metadata": {},
   "source": [
    "## 2.9 KS指标-金融风控预测类常见指标\n",
    "KS曲线与ROC曲线类似，但KS曲线将`TPR`,`FPR`均作为纵轴，横轴由选定的阈值担当。\n",
    "$$KS=max(TPR-FPR)$$\n",
    "一般来说，KS值越大，模型区分能力越强，但过大可能会存在异常（过拟合），下面是KS的取值对应模型能力（经验）\n",
    "\n",
    "KS（%）|\t好坏区分能力\n",
    "---|---\n",
    "20以下|\t不建议采用\n",
    "20-40\t|较好\n",
    "41-50\t|良好\n",
    "51-60\t|很强\n",
    "61-75\t|非常强\n",
    "75以上\t|过于高，疑似存在问题"
   ]
  },
  {
   "cell_type": "code",
   "execution_count": 1,
   "metadata": {},
   "outputs": [
    {
     "name": "stdout",
     "output_type": "stream",
     "text": [
      "KS值： 0.5\n"
     ]
    }
   ],
   "source": [
    "# KS 计算\n",
    "from sklearn.metrics import roc_curve\n",
    "import numpy as np\n",
    "\n",
    "y_true = np.array([0,0,1,1])\n",
    "y_score = np.array([0.1,0.4,0.35,0.8])\n",
    "FPR,TPR,thresholds=roc_curve(y_true, y_score)\n",
    "KS=abs(FPR-TPR).max()\n",
    "print('KS值：',KS)"
   ]
  },
  {
   "cell_type": "markdown",
   "metadata": {},
   "source": [
    "# 3. 小结\n",
    "- 了解赛题基本信息\n",
    "- 参考借鉴其他比赛\n",
    "- 确定评价指标，线下验证"
   ]
  },
  {
   "cell_type": "code",
   "execution_count": null,
   "metadata": {},
   "outputs": [],
   "source": []
  }
 ],
 "metadata": {
  "kernelspec": {
   "display_name": "Python 3",
   "language": "python",
   "name": "python3"
  },
  "language_info": {
   "codemirror_mode": {
    "name": "ipython",
    "version": 3
   },
   "file_extension": ".py",
   "mimetype": "text/x-python",
   "name": "python",
   "nbconvert_exporter": "python",
   "pygments_lexer": "ipython3",
   "version": "3.8.2"
  },
  "toc": {
   "base_numbering": 1,
   "nav_menu": {},
   "number_sections": false,
   "sideBar": true,
   "skip_h1_title": false,
   "title_cell": "Table of Contents",
   "title_sidebar": "Contents",
   "toc_cell": false,
   "toc_position": {
    "height": "calc(100% - 180px)",
    "left": "10px",
    "top": "150px",
    "width": "288px"
   },
   "toc_section_display": true,
   "toc_window_display": true
  }
 },
 "nbformat": 4,
 "nbformat_minor": 4
}
